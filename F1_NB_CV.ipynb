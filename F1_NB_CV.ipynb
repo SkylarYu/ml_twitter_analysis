{
 "cells": [
  {
   "cell_type": "code",
   "execution_count": 64,
   "id": "9dcd077d",
   "metadata": {},
   "outputs": [
    {
     "name": "stderr",
     "output_type": "stream",
     "text": [
      "UsageError: Line magic function `%matploblib` not found.\n"
     ]
    }
   ],
   "source": [
    "import numpy as np\n",
    "import pandas as pd\n",
    "from sklearn.naive_bayes import BernoulliNB\n",
    "from sklearn.model_selection import train_test_split, cross_val_score\n",
    "from sklearn.metrics import accuracy_score, confusion_matrix, classification_report\n",
    "from sklearn.model_selection import GridSearchCV, RandomizedSearchCV\n",
    "import pickle\n",
    "import os\n",
    "import random\n",
    "import seaborn as sns\n",
    "import matplotlib.pyplot as plt\n",
    "%matploblib inline\n",
    "import my_globals\n",
    "from utils import get_sub_featured_datasets"
   ]
  },
  {
   "cell_type": "code",
   "execution_count": 27,
   "id": "a9ffa3ed",
   "metadata": {},
   "outputs": [],
   "source": [
    "random.seed(4)\n",
    "np.random.seed(4)"
   ]
  },
  {
   "cell_type": "code",
   "execution_count": 41,
   "id": "46c93941",
   "metadata": {},
   "outputs": [],
   "source": [
    "from sklearn.exceptions import DataConversionWarning\n",
    "import warnings\n",
    "warnings.filterwarnings('ignore', category=DataConversionWarning)"
   ]
  },
  {
   "cell_type": "markdown",
   "id": "fee2fef1",
   "metadata": {},
   "source": [
    "## Data"
   ]
  },
  {
   "cell_type": "code",
   "execution_count": 20,
   "id": "7dc54139",
   "metadata": {},
   "outputs": [
    {
     "name": "stdout",
     "output_type": "stream",
     "text": [
      "CPU times: user 1min 18s, sys: 17 s, total: 1min 35s\n",
      "Wall time: 1min 41s\n"
     ]
    }
   ],
   "source": [
    "%%time\n",
    "f1 = pd.read_csv(\"../project_data/feature_space_1.csv\", encoding=\"latin1\")"
   ]
  },
  {
   "cell_type": "code",
   "execution_count": 29,
   "id": "c0350f5f",
   "metadata": {},
   "outputs": [
    {
     "data": {
      "text/plain": [
       "(100000, 5011)"
      ]
     },
     "execution_count": 29,
     "metadata": {},
     "output_type": "execute_result"
    }
   ],
   "source": [
    "f1.shape"
   ]
  },
  {
   "cell_type": "code",
   "execution_count": 22,
   "id": "a463b90f",
   "metadata": {},
   "outputs": [
    {
     "data": {
      "text/html": [
       "<div>\n",
       "<style scoped>\n",
       "    .dataframe tbody tr th:only-of-type {\n",
       "        vertical-align: middle;\n",
       "    }\n",
       "\n",
       "    .dataframe tbody tr th {\n",
       "        vertical-align: top;\n",
       "    }\n",
       "\n",
       "    .dataframe thead th {\n",
       "        text-align: right;\n",
       "    }\n",
       "</style>\n",
       "<table border=\"1\" class=\"dataframe\">\n",
       "  <thead>\n",
       "    <tr style=\"text-align: right;\">\n",
       "      <th></th>\n",
       "      <th>exclaim_freq</th>\n",
       "      <th>mention_count</th>\n",
       "      <th>cap_freq</th>\n",
       "      <th>target</th>\n",
       "      <th>weekday_Mon</th>\n",
       "      <th>weekday_Tue</th>\n",
       "      <th>weekday_Wed</th>\n",
       "      <th>weekday_Thu</th>\n",
       "      <th>weekday_Fri</th>\n",
       "      <th>weekday_Sat</th>\n",
       "      <th>...</th>\n",
       "      <th>tfidf_àª</th>\n",
       "      <th>tfidf_à¹</th>\n",
       "      <th>tfidf_ðµ</th>\n",
       "      <th>tfidf_ðµð</th>\n",
       "      <th>tfidf_ðµñ</th>\n",
       "      <th>tfidf_ðºð</th>\n",
       "      <th>tfidf_ð½ð</th>\n",
       "      <th>tfidf_ð¾</th>\n",
       "      <th>tfidf_ð¾ð</th>\n",
       "      <th>tfidf_ð¾ñ</th>\n",
       "    </tr>\n",
       "  </thead>\n",
       "  <tbody>\n",
       "    <tr>\n",
       "      <th>0</th>\n",
       "      <td>0.016667</td>\n",
       "      <td>1</td>\n",
       "      <td>0.054054</td>\n",
       "      <td>0</td>\n",
       "      <td>1.0</td>\n",
       "      <td>0.0</td>\n",
       "      <td>0.0</td>\n",
       "      <td>0.0</td>\n",
       "      <td>0.0</td>\n",
       "      <td>0.0</td>\n",
       "      <td>...</td>\n",
       "      <td>0.0</td>\n",
       "      <td>0.0</td>\n",
       "      <td>0.0</td>\n",
       "      <td>0.0</td>\n",
       "      <td>0.0</td>\n",
       "      <td>0.0</td>\n",
       "      <td>0.0</td>\n",
       "      <td>0.0</td>\n",
       "      <td>0.0</td>\n",
       "      <td>0.0</td>\n",
       "    </tr>\n",
       "    <tr>\n",
       "      <th>1</th>\n",
       "      <td>0.000000</td>\n",
       "      <td>1</td>\n",
       "      <td>0.346154</td>\n",
       "      <td>4</td>\n",
       "      <td>0.0</td>\n",
       "      <td>0.0</td>\n",
       "      <td>0.0</td>\n",
       "      <td>0.0</td>\n",
       "      <td>0.0</td>\n",
       "      <td>0.0</td>\n",
       "      <td>...</td>\n",
       "      <td>0.0</td>\n",
       "      <td>0.0</td>\n",
       "      <td>0.0</td>\n",
       "      <td>0.0</td>\n",
       "      <td>0.0</td>\n",
       "      <td>0.0</td>\n",
       "      <td>0.0</td>\n",
       "      <td>0.0</td>\n",
       "      <td>0.0</td>\n",
       "      <td>0.0</td>\n",
       "    </tr>\n",
       "    <tr>\n",
       "      <th>2</th>\n",
       "      <td>0.023256</td>\n",
       "      <td>2</td>\n",
       "      <td>0.000000</td>\n",
       "      <td>0</td>\n",
       "      <td>0.0</td>\n",
       "      <td>0.0</td>\n",
       "      <td>0.0</td>\n",
       "      <td>0.0</td>\n",
       "      <td>0.0</td>\n",
       "      <td>0.0</td>\n",
       "      <td>...</td>\n",
       "      <td>0.0</td>\n",
       "      <td>0.0</td>\n",
       "      <td>0.0</td>\n",
       "      <td>0.0</td>\n",
       "      <td>0.0</td>\n",
       "      <td>0.0</td>\n",
       "      <td>0.0</td>\n",
       "      <td>0.0</td>\n",
       "      <td>0.0</td>\n",
       "      <td>0.0</td>\n",
       "    </tr>\n",
       "    <tr>\n",
       "      <th>3</th>\n",
       "      <td>0.018182</td>\n",
       "      <td>1</td>\n",
       "      <td>0.033333</td>\n",
       "      <td>4</td>\n",
       "      <td>0.0</td>\n",
       "      <td>0.0</td>\n",
       "      <td>0.0</td>\n",
       "      <td>0.0</td>\n",
       "      <td>0.0</td>\n",
       "      <td>0.0</td>\n",
       "      <td>...</td>\n",
       "      <td>0.0</td>\n",
       "      <td>0.0</td>\n",
       "      <td>0.0</td>\n",
       "      <td>0.0</td>\n",
       "      <td>0.0</td>\n",
       "      <td>0.0</td>\n",
       "      <td>0.0</td>\n",
       "      <td>0.0</td>\n",
       "      <td>0.0</td>\n",
       "      <td>0.0</td>\n",
       "    </tr>\n",
       "    <tr>\n",
       "      <th>4</th>\n",
       "      <td>0.000000</td>\n",
       "      <td>1</td>\n",
       "      <td>0.200000</td>\n",
       "      <td>0</td>\n",
       "      <td>0.0</td>\n",
       "      <td>1.0</td>\n",
       "      <td>0.0</td>\n",
       "      <td>0.0</td>\n",
       "      <td>0.0</td>\n",
       "      <td>0.0</td>\n",
       "      <td>...</td>\n",
       "      <td>0.0</td>\n",
       "      <td>0.0</td>\n",
       "      <td>0.0</td>\n",
       "      <td>0.0</td>\n",
       "      <td>0.0</td>\n",
       "      <td>0.0</td>\n",
       "      <td>0.0</td>\n",
       "      <td>0.0</td>\n",
       "      <td>0.0</td>\n",
       "      <td>0.0</td>\n",
       "    </tr>\n",
       "  </tbody>\n",
       "</table>\n",
       "<p>5 rows × 5011 columns</p>\n",
       "</div>"
      ],
      "text/plain": [
       "   exclaim_freq  mention_count  cap_freq  target  weekday_Mon  weekday_Tue  \\\n",
       "0      0.016667              1  0.054054       0          1.0          0.0   \n",
       "1      0.000000              1  0.346154       4          0.0          0.0   \n",
       "2      0.023256              2  0.000000       0          0.0          0.0   \n",
       "3      0.018182              1  0.033333       4          0.0          0.0   \n",
       "4      0.000000              1  0.200000       0          0.0          1.0   \n",
       "\n",
       "   weekday_Wed  weekday_Thu  weekday_Fri  weekday_Sat  ...  tfidf_àª  \\\n",
       "0          0.0          0.0          0.0          0.0  ...       0.0   \n",
       "1          0.0          0.0          0.0          0.0  ...       0.0   \n",
       "2          0.0          0.0          0.0          0.0  ...       0.0   \n",
       "3          0.0          0.0          0.0          0.0  ...       0.0   \n",
       "4          0.0          0.0          0.0          0.0  ...       0.0   \n",
       "\n",
       "   tfidf_à¹  tfidf_ðµ  tfidf_ðµð  tfidf_ðµñ  tfidf_ðºð  tfidf_ð½ð  tfidf_ð¾  \\\n",
       "0       0.0       0.0        0.0        0.0        0.0        0.0       0.0   \n",
       "1       0.0       0.0        0.0        0.0        0.0        0.0       0.0   \n",
       "2       0.0       0.0        0.0        0.0        0.0        0.0       0.0   \n",
       "3       0.0       0.0        0.0        0.0        0.0        0.0       0.0   \n",
       "4       0.0       0.0        0.0        0.0        0.0        0.0       0.0   \n",
       "\n",
       "   tfidf_ð¾ð  tfidf_ð¾ñ  \n",
       "0        0.0        0.0  \n",
       "1        0.0        0.0  \n",
       "2        0.0        0.0  \n",
       "3        0.0        0.0  \n",
       "4        0.0        0.0  \n",
       "\n",
       "[5 rows x 5011 columns]"
      ]
     },
     "execution_count": 22,
     "metadata": {},
     "output_type": "execute_result"
    }
   ],
   "source": [
    "f1.head()"
   ]
  },
  {
   "cell_type": "code",
   "execution_count": null,
   "id": "a8c35313",
   "metadata": {},
   "outputs": [],
   "source": []
  },
  {
   "cell_type": "markdown",
   "id": "9a9cc123",
   "metadata": {},
   "source": [
    "## Model"
   ]
  },
  {
   "cell_type": "code",
   "execution_count": 46,
   "id": "d173e71d",
   "metadata": {},
   "outputs": [],
   "source": [
    "XX = f1.drop(['target'], axis=1)\n",
    "yy = f1[['target']]\n",
    "X_train, X_test, y_train, y_test = train_test_split(XX, yy, test_size=0.2, random_state=4)"
   ]
  },
  {
   "cell_type": "code",
   "execution_count": 47,
   "id": "b21fc55c",
   "metadata": {},
   "outputs": [
    {
     "data": {
      "text/plain": [
       "((80000, 5010), (20000, 5010), (80000, 1), (20000, 1))"
      ]
     },
     "execution_count": 47,
     "metadata": {},
     "output_type": "execute_result"
    }
   ],
   "source": [
    "X_train.shape, X_test.shape, y_train.shape, y_test.shape"
   ]
  },
  {
   "cell_type": "code",
   "execution_count": 59,
   "id": "e31f9777",
   "metadata": {},
   "outputs": [
    {
     "name": "stdout",
     "output_type": "stream",
     "text": [
      "Fitting 5 folds for each of 8 candidates, totalling 40 fits\n",
      "[CV 1/5] END ..alpha=0.0001;, score=(train=0.786, test=0.760) total time=  26.3s\n",
      "[CV 2/5] END ..alpha=0.0001;, score=(train=0.785, test=0.763) total time=  25.0s\n",
      "[CV 3/5] END ..alpha=0.0001;, score=(train=0.787, test=0.759) total time=  25.0s\n",
      "[CV 4/5] END ..alpha=0.0001;, score=(train=0.788, test=0.756) total time=  24.7s\n",
      "[CV 5/5] END ..alpha=0.0001;, score=(train=0.785, test=0.760) total time=  25.9s\n",
      "[CV 1/5] END ...alpha=0.001;, score=(train=0.786, test=0.761) total time=  28.8s\n",
      "[CV 2/5] END ...alpha=0.001;, score=(train=0.785, test=0.763) total time=  25.1s\n",
      "[CV 3/5] END ...alpha=0.001;, score=(train=0.787, test=0.759) total time=  26.2s\n",
      "[CV 4/5] END ...alpha=0.001;, score=(train=0.788, test=0.756) total time=  25.3s\n",
      "[CV 5/5] END ...alpha=0.001;, score=(train=0.785, test=0.760) total time=  25.9s\n",
      "[CV 1/5] END ....alpha=0.01;, score=(train=0.786, test=0.761) total time=  25.9s\n",
      "[CV 2/5] END ....alpha=0.01;, score=(train=0.785, test=0.763) total time=  26.3s\n",
      "[CV 3/5] END ....alpha=0.01;, score=(train=0.787, test=0.759) total time=  26.6s\n",
      "[CV 4/5] END ....alpha=0.01;, score=(train=0.788, test=0.756) total time=  25.3s\n",
      "[CV 5/5] END ....alpha=0.01;, score=(train=0.784, test=0.760) total time=  24.4s\n",
      "[CV 1/5] END .....alpha=0.1;, score=(train=0.786, test=0.761) total time=  25.1s\n",
      "[CV 2/5] END .....alpha=0.1;, score=(train=0.785, test=0.763) total time=  24.9s\n",
      "[CV 3/5] END .....alpha=0.1;, score=(train=0.787, test=0.760) total time=  25.8s\n",
      "[CV 4/5] END .....alpha=0.1;, score=(train=0.788, test=0.756) total time=  25.4s\n",
      "[CV 5/5] END .....alpha=0.1;, score=(train=0.784, test=0.760) total time=  25.2s\n",
      "[CV 1/5] END .......alpha=1;, score=(train=0.785, test=0.764) total time=  24.9s\n",
      "[CV 2/5] END .......alpha=1;, score=(train=0.784, test=0.764) total time=  24.5s\n",
      "[CV 3/5] END .......alpha=1;, score=(train=0.786, test=0.762) total time=  23.8s\n",
      "[CV 4/5] END .......alpha=1;, score=(train=0.787, test=0.758) total time=  24.3s\n",
      "[CV 5/5] END .......alpha=1;, score=(train=0.784, test=0.763) total time=  24.0s\n",
      "[CV 1/5] END ......alpha=10;, score=(train=0.778, test=0.764) total time=  24.1s\n",
      "[CV 2/5] END ......alpha=10;, score=(train=0.776, test=0.765) total time=  23.9s\n",
      "[CV 3/5] END ......alpha=10;, score=(train=0.778, test=0.758) total time=  23.8s\n",
      "[CV 4/5] END ......alpha=10;, score=(train=0.780, test=0.757) total time=  24.0s\n",
      "[CV 5/5] END ......alpha=10;, score=(train=0.777, test=0.765) total time=  24.2s\n",
      "[CV 1/5] END .....alpha=100;, score=(train=0.749, test=0.745) total time=  24.0s\n",
      "[CV 2/5] END .....alpha=100;, score=(train=0.749, test=0.748) total time=  24.0s\n",
      "[CV 3/5] END .....alpha=100;, score=(train=0.751, test=0.738) total time=  24.5s\n",
      "[CV 4/5] END .....alpha=100;, score=(train=0.752, test=0.737) total time=  24.5s\n",
      "[CV 5/5] END .....alpha=100;, score=(train=0.748, test=0.749) total time=  24.1s\n",
      "[CV 1/5] END ....alpha=1000;, score=(train=0.656, test=0.659) total time=  24.4s\n",
      "[CV 2/5] END ....alpha=1000;, score=(train=0.660, test=0.663) total time=  24.2s\n",
      "[CV 3/5] END ....alpha=1000;, score=(train=0.661, test=0.651) total time=  24.1s\n",
      "[CV 4/5] END ....alpha=1000;, score=(train=0.660, test=0.657) total time=  24.6s\n",
      "[CV 5/5] END ....alpha=1000;, score=(train=0.660, test=0.657) total time=  33.6s\n"
     ]
    },
    {
     "data": {
      "text/html": [
       "<style>#sk-container-id-1 {color: black;background-color: white;}#sk-container-id-1 pre{padding: 0;}#sk-container-id-1 div.sk-toggleable {background-color: white;}#sk-container-id-1 label.sk-toggleable__label {cursor: pointer;display: block;width: 100%;margin-bottom: 0;padding: 0.3em;box-sizing: border-box;text-align: center;}#sk-container-id-1 label.sk-toggleable__label-arrow:before {content: \"▸\";float: left;margin-right: 0.25em;color: #696969;}#sk-container-id-1 label.sk-toggleable__label-arrow:hover:before {color: black;}#sk-container-id-1 div.sk-estimator:hover label.sk-toggleable__label-arrow:before {color: black;}#sk-container-id-1 div.sk-toggleable__content {max-height: 0;max-width: 0;overflow: hidden;text-align: left;background-color: #f0f8ff;}#sk-container-id-1 div.sk-toggleable__content pre {margin: 0.2em;color: black;border-radius: 0.25em;background-color: #f0f8ff;}#sk-container-id-1 input.sk-toggleable__control:checked~div.sk-toggleable__content {max-height: 200px;max-width: 100%;overflow: auto;}#sk-container-id-1 input.sk-toggleable__control:checked~label.sk-toggleable__label-arrow:before {content: \"▾\";}#sk-container-id-1 div.sk-estimator input.sk-toggleable__control:checked~label.sk-toggleable__label {background-color: #d4ebff;}#sk-container-id-1 div.sk-label input.sk-toggleable__control:checked~label.sk-toggleable__label {background-color: #d4ebff;}#sk-container-id-1 input.sk-hidden--visually {border: 0;clip: rect(1px 1px 1px 1px);clip: rect(1px, 1px, 1px, 1px);height: 1px;margin: -1px;overflow: hidden;padding: 0;position: absolute;width: 1px;}#sk-container-id-1 div.sk-estimator {font-family: monospace;background-color: #f0f8ff;border: 1px dotted black;border-radius: 0.25em;box-sizing: border-box;margin-bottom: 0.5em;}#sk-container-id-1 div.sk-estimator:hover {background-color: #d4ebff;}#sk-container-id-1 div.sk-parallel-item::after {content: \"\";width: 100%;border-bottom: 1px solid gray;flex-grow: 1;}#sk-container-id-1 div.sk-label:hover label.sk-toggleable__label {background-color: #d4ebff;}#sk-container-id-1 div.sk-serial::before {content: \"\";position: absolute;border-left: 1px solid gray;box-sizing: border-box;top: 0;bottom: 0;left: 50%;z-index: 0;}#sk-container-id-1 div.sk-serial {display: flex;flex-direction: column;align-items: center;background-color: white;padding-right: 0.2em;padding-left: 0.2em;position: relative;}#sk-container-id-1 div.sk-item {position: relative;z-index: 1;}#sk-container-id-1 div.sk-parallel {display: flex;align-items: stretch;justify-content: center;background-color: white;position: relative;}#sk-container-id-1 div.sk-item::before, #sk-container-id-1 div.sk-parallel-item::before {content: \"\";position: absolute;border-left: 1px solid gray;box-sizing: border-box;top: 0;bottom: 0;left: 50%;z-index: -1;}#sk-container-id-1 div.sk-parallel-item {display: flex;flex-direction: column;z-index: 1;position: relative;background-color: white;}#sk-container-id-1 div.sk-parallel-item:first-child::after {align-self: flex-end;width: 50%;}#sk-container-id-1 div.sk-parallel-item:last-child::after {align-self: flex-start;width: 50%;}#sk-container-id-1 div.sk-parallel-item:only-child::after {width: 0;}#sk-container-id-1 div.sk-dashed-wrapped {border: 1px dashed gray;margin: 0 0.4em 0.5em 0.4em;box-sizing: border-box;padding-bottom: 0.4em;background-color: white;}#sk-container-id-1 div.sk-label label {font-family: monospace;font-weight: bold;display: inline-block;line-height: 1.2em;}#sk-container-id-1 div.sk-label-container {text-align: center;}#sk-container-id-1 div.sk-container {/* jupyter's `normalize.less` sets `[hidden] { display: none; }` but bootstrap.min.css set `[hidden] { display: none !important; }` so we also need the `!important` here to be able to override the default hidden behavior on the sphinx rendered scikit-learn.org. See: https://github.com/scikit-learn/scikit-learn/issues/21755 */display: inline-block !important;position: relative;}#sk-container-id-1 div.sk-text-repr-fallback {display: none;}</style><div id=\"sk-container-id-1\" class=\"sk-top-container\"><div class=\"sk-text-repr-fallback\"><pre>GridSearchCV(cv=5, estimator=BernoulliNB(),\n",
       "             param_grid={&#x27;alpha&#x27;: [0.0001, 0.001, 0.01, 0.1, 1, 10, 100, 1000]},\n",
       "             return_train_score=True, scoring=&#x27;accuracy&#x27;, verbose=4)</pre><b>In a Jupyter environment, please rerun this cell to show the HTML representation or trust the notebook. <br />On GitHub, the HTML representation is unable to render, please try loading this page with nbviewer.org.</b></div><div class=\"sk-container\" hidden><div class=\"sk-item sk-dashed-wrapped\"><div class=\"sk-label-container\"><div class=\"sk-label sk-toggleable\"><input class=\"sk-toggleable__control sk-hidden--visually\" id=\"sk-estimator-id-1\" type=\"checkbox\" ><label for=\"sk-estimator-id-1\" class=\"sk-toggleable__label sk-toggleable__label-arrow\">GridSearchCV</label><div class=\"sk-toggleable__content\"><pre>GridSearchCV(cv=5, estimator=BernoulliNB(),\n",
       "             param_grid={&#x27;alpha&#x27;: [0.0001, 0.001, 0.01, 0.1, 1, 10, 100, 1000]},\n",
       "             return_train_score=True, scoring=&#x27;accuracy&#x27;, verbose=4)</pre></div></div></div><div class=\"sk-parallel\"><div class=\"sk-parallel-item\"><div class=\"sk-item\"><div class=\"sk-label-container\"><div class=\"sk-label sk-toggleable\"><input class=\"sk-toggleable__control sk-hidden--visually\" id=\"sk-estimator-id-2\" type=\"checkbox\" ><label for=\"sk-estimator-id-2\" class=\"sk-toggleable__label sk-toggleable__label-arrow\">estimator: BernoulliNB</label><div class=\"sk-toggleable__content\"><pre>BernoulliNB()</pre></div></div></div><div class=\"sk-serial\"><div class=\"sk-item\"><div class=\"sk-estimator sk-toggleable\"><input class=\"sk-toggleable__control sk-hidden--visually\" id=\"sk-estimator-id-3\" type=\"checkbox\" ><label for=\"sk-estimator-id-3\" class=\"sk-toggleable__label sk-toggleable__label-arrow\">BernoulliNB</label><div class=\"sk-toggleable__content\"><pre>BernoulliNB()</pre></div></div></div></div></div></div></div></div></div></div>"
      ],
      "text/plain": [
       "GridSearchCV(cv=5, estimator=BernoulliNB(),\n",
       "             param_grid={'alpha': [0.0001, 0.001, 0.01, 0.1, 1, 10, 100, 1000]},\n",
       "             return_train_score=True, scoring='accuracy', verbose=4)"
      ]
     },
     "execution_count": 59,
     "metadata": {},
     "output_type": "execute_result"
    }
   ],
   "source": [
    "nb = BernoulliNB()\n",
    "\n",
    "params={'alpha': [10**(n) for n in range(-4, 4)]}\n",
    "\n",
    "clf = GridSearchCV(nb, params, scoring='accuracy', cv=5, return_train_score=True, verbose=4)\n",
    "clf.fit(X_train, y_train)"
   ]
  },
  {
   "cell_type": "code",
   "execution_count": 60,
   "id": "843e6a6b",
   "metadata": {},
   "outputs": [],
   "source": [
    "def assess(y_true, y_pred):\n",
    "    print(\"confusion matrix:\")\n",
    "    conf_mat = confusion_matrix(y_true, y_pred)\n",
    "    print(conf_mat)\n",
    "    print()\n",
    "    print(\"accuracy_score:\")\n",
    "    print(accuracy_score(y_true, y_pred))\n",
    "    print()\n",
    "    print(\"classification report:\")\n",
    "    print(classification_report(y_true,y_pred))\n",
    "    print()\n",
    "    return conf_mat"
   ]
  },
  {
   "cell_type": "code",
   "execution_count": 65,
   "id": "7ab7dc9a",
   "metadata": {},
   "outputs": [
    {
     "name": "stdout",
     "output_type": "stream",
     "text": [
      "Best alpha choice is 1.\n",
      "Out of sample assessment:\n",
      "\n",
      "confusion matrix:\n",
      "[[7464 2467]\n",
      " [2280 7789]]\n",
      "\n",
      "accuracy_score:\n",
      "0.76265\n",
      "\n",
      "classification report:\n",
      "              precision    recall  f1-score   support\n",
      "\n",
      "           0       0.77      0.75      0.76      9931\n",
      "           4       0.76      0.77      0.77     10069\n",
      "\n",
      "    accuracy                           0.76     20000\n",
      "   macro avg       0.76      0.76      0.76     20000\n",
      "weighted avg       0.76      0.76      0.76     20000\n",
      "\n",
      "\n"
     ]
    },
    {
     "data": {
      "text/plain": [
       "<Axes: >"
      ]
     },
     "execution_count": 65,
     "metadata": {},
     "output_type": "execute_result"
    },
    {
     "data": {
      "image/png": "[encoded data removed]",
      "text/plain": [
       "<Figure size 640x480 with 2 Axes>"
      ]
     },
     "metadata": {},
     "output_type": "display_data"
    }
   ],
   "source": [
    "best_alpha = clf.best_params_[\"alpha\"]\n",
    "print(f\"Best alpha choice is {best_alpha}.\")\n",
    "best_nb = clf.best_estimator_\n",
    "\n",
    "# save model\n",
    "nb_modelfile = \"/\".join([my_globals.DATA_DIR, \"best_nb.pickle\"])\n",
    "pickle.dump(best_nb, open(nb_modelfile, \"wb\"))\n",
    "\n",
    "best_nb.fit(X_train, y_train)\n",
    "y_pred = best_nb.predict(X_test)\n",
    "\n",
    "print(\"Out of sample assessment:\")\n",
    "print()\n",
    "conf_mat = assess(y_test, y_pred)\n",
    "\n",
    "sns.heatmap(conf_mat)\n"
   ]
  },
  {
   "cell_type": "code",
   "execution_count": null,
   "id": "1cb79eda",
   "metadata": {},
   "outputs": [],
   "source": []
  }
 ],
 "metadata": {
  "kernelspec": {
   "display_name": "Python 3 (ipykernel)",
   "language": "python",
   "name": "python3"
  },
  "language_info": {
   "codemirror_mode": {
    "name": "ipython",
    "version": 3
   },
   "file_extension": ".py",
   "mimetype": "text/x-python",
   "name": "python",
   "nbconvert_exporter": "python",
   "pygments_lexer": "ipython3",
   "version": "3.10.9"
  }
 },
 "nbformat": 4,
 "nbformat_minor": 5
}
