{
 "cells": [
  {
   "cell_type": "code",
   "execution_count": 1,
   "metadata": {},
   "outputs": [],
   "source": [
    "from sklearn.naive_bayes import BernoulliNB, GaussianNB\n",
    "import numpy as np\n",
    "import pandas as pd\n",
    "import my_globals\n",
    "from sklearn.model_selection import train_test_split\n",
    "from sklearn.decomposition import PCA\n",
    "from sklearn.metrics import accuracy_score, confusion_matrix, classification_report\n",
    "from sklearn.ensemble import RandomForestClassifier\n",
    "from sklearn.model_selection import GridSearchCV, RandomizedSearchCV\n",
    "import warnings\n",
    "from sklearn.exceptions import DataConversionWarning\n",
    "warnings.filterwarnings(action='ignore', category=DataConversionWarning)"
   ]
  },
  {
   "cell_type": "code",
   "execution_count": 2,
   "metadata": {},
   "outputs": [],
   "source": [
    "from tensorflow.keras.models import Sequential\n",
    "from tensorflow.keras.layers import Dense, LSTM, Dropout, SpatialDropout1D, BatchNormalization\n",
    "from tensorflow.keras.optimizers import Adam\n",
    "from keras.callbacks import EarlyStopping\n",
    "from keras.regularizers import L1L2\n",
    "import tensorflow as tf\n",
    "from keras.losses import SparseCategoricalCrossentropy\n",
    "from sklearn.preprocessing import LabelEncoder\n",
    "from tensorflow.keras.utils import to_categorical\n",
    "from keras import layers"
   ]
  },
  {
   "cell_type": "code",
   "execution_count": 3,
   "metadata": {},
   "outputs": [],
   "source": [
    "data = pd.read_csv('feature_space_1.csv', encoding='latin1')\n",
    "y = data['target']\n",
    "data = data.drop('target', axis=1)"
   ]
  },
  {
   "cell_type": "code",
   "execution_count": 9,
   "metadata": {},
   "outputs": [],
   "source": [
    "x_train, x_test, y_train, y_test = train_test_split(data, y, test_size=0.2)"
   ]
  },
  {
   "cell_type": "code",
   "execution_count": 17,
   "metadata": {},
   "outputs": [
    {
     "name": "stdout",
     "output_type": "stream",
     "text": [
      "Fitting 3 folds for each of 18 candidates, totalling 54 fits\n",
      "[CV 1/3] END max_depth=50, max_features=sqrt, n_estimators=400;, score=0.735 total time= 4.8min\n",
      "[CV 2/3] END max_depth=50, max_features=sqrt, n_estimators=400;, score=0.736 total time= 5.2min\n",
      "[CV 3/3] END max_depth=50, max_features=sqrt, n_estimators=400;, score=0.737 total time= 4.8min\n",
      "[CV 1/3] END max_depth=50, max_features=sqrt, n_estimators=600;, score=0.735 total time= 7.1min\n",
      "[CV 2/3] END max_depth=50, max_features=sqrt, n_estimators=600;, score=0.733 total time= 7.7min\n",
      "[CV 3/3] END max_depth=50, max_features=sqrt, n_estimators=600;, score=0.737 total time= 7.8min\n",
      "[CV 1/3] END max_depth=50, max_features=sqrt, n_estimators=800;, score=0.736 total time= 9.5min\n",
      "[CV 2/3] END max_depth=50, max_features=sqrt, n_estimators=800;, score=0.734 total time= 9.5min\n",
      "[CV 3/3] END max_depth=50, max_features=sqrt, n_estimators=800;, score=0.737 total time= 9.9min\n",
      "[CV 1/3] END max_depth=50, max_features=log2, n_estimators=400;, score=0.756 total time= 1.0min\n",
      "[CV 2/3] END max_depth=50, max_features=log2, n_estimators=400;, score=0.756 total time=  56.3s\n",
      "[CV 3/3] END max_depth=50, max_features=log2, n_estimators=400;, score=0.756 total time=  56.1s\n",
      "[CV 1/3] END max_depth=50, max_features=log2, n_estimators=600;, score=0.759 total time= 1.4min\n",
      "[CV 2/3] END max_depth=50, max_features=log2, n_estimators=600;, score=0.756 total time= 1.4min\n",
      "[CV 3/3] END max_depth=50, max_features=log2, n_estimators=600;, score=0.757 total time= 1.3min\n",
      "[CV 1/3] END max_depth=50, max_features=log2, n_estimators=800;, score=0.758 total time= 1.8min\n",
      "[CV 2/3] END max_depth=50, max_features=log2, n_estimators=800;, score=0.756 total time= 1.9min\n",
      "[CV 3/3] END max_depth=50, max_features=log2, n_estimators=800;, score=0.756 total time= 1.8min\n",
      "[CV 1/3] END max_depth=150, max_features=sqrt, n_estimators=400;, score=0.747 total time=11.8min\n",
      "[CV 2/3] END max_depth=150, max_features=sqrt, n_estimators=400;, score=0.743 total time=11.8min\n",
      "[CV 3/3] END max_depth=150, max_features=sqrt, n_estimators=400;, score=0.746 total time=11.8min\n",
      "[CV 1/3] END max_depth=150, max_features=sqrt, n_estimators=600;, score=0.747 total time=17.7min\n",
      "[CV 2/3] END max_depth=150, max_features=sqrt, n_estimators=600;, score=0.744 total time=17.6min\n",
      "[CV 3/3] END max_depth=150, max_features=sqrt, n_estimators=600;, score=0.748 total time=17.6min\n",
      "[CV 1/3] END max_depth=150, max_features=sqrt, n_estimators=800;, score=0.746 total time=23.5min\n",
      "[CV 2/3] END max_depth=150, max_features=sqrt, n_estimators=800;, score=0.744 total time=23.3min\n",
      "[CV 3/3] END max_depth=150, max_features=sqrt, n_estimators=800;, score=0.748 total time=24.2min\n",
      "[CV 1/3] END max_depth=150, max_features=log2, n_estimators=400;, score=0.764 total time= 3.1min\n",
      "[CV 2/3] END max_depth=150, max_features=log2, n_estimators=400;, score=0.762 total time= 3.0min\n",
      "[CV 3/3] END max_depth=150, max_features=log2, n_estimators=400;, score=0.766 total time= 3.0min\n",
      "[CV 1/3] END max_depth=150, max_features=log2, n_estimators=600;, score=0.764 total time= 4.4min\n",
      "[CV 2/3] END max_depth=150, max_features=log2, n_estimators=600;, score=0.763 total time= 4.4min\n",
      "[CV 3/3] END max_depth=150, max_features=log2, n_estimators=600;, score=0.764 total time= 4.4min\n",
      "[CV 1/3] END max_depth=150, max_features=log2, n_estimators=800;, score=0.765 total time= 5.8min\n",
      "[CV 2/3] END max_depth=150, max_features=log2, n_estimators=800;, score=0.764 total time= 5.8min\n",
      "[CV 3/3] END max_depth=150, max_features=log2, n_estimators=800;, score=0.763 total time= 6.2min\n",
      "[CV 1/3] END max_depth=250, max_features=sqrt, n_estimators=400;, score=0.747 total time=14.7min\n",
      "[CV 2/3] END max_depth=250, max_features=sqrt, n_estimators=400;, score=0.742 total time=15.3min\n",
      "[CV 3/3] END max_depth=250, max_features=sqrt, n_estimators=400;, score=0.748 total time=14.4min\n",
      "[CV 1/3] END max_depth=250, max_features=sqrt, n_estimators=600;, score=0.747 total time=21.4min\n",
      "[CV 2/3] END max_depth=250, max_features=sqrt, n_estimators=600;, score=0.742 total time=24.8min\n",
      "[CV 3/3] END max_depth=250, max_features=sqrt, n_estimators=600;, score=0.748 total time=20.4min\n",
      "[CV 1/3] END max_depth=250, max_features=sqrt, n_estimators=800;, score=0.747 total time=27.0min\n",
      "[CV 2/3] END max_depth=250, max_features=sqrt, n_estimators=800;, score=0.742 total time=27.2min\n",
      "[CV 3/3] END max_depth=250, max_features=sqrt, n_estimators=800;, score=0.748 total time=27.0min\n",
      "[CV 1/3] END max_depth=250, max_features=log2, n_estimators=400;, score=0.767 total time= 4.7min\n",
      "[CV 2/3] END max_depth=250, max_features=log2, n_estimators=400;, score=0.765 total time= 4.7min\n",
      "[CV 3/3] END max_depth=250, max_features=log2, n_estimators=400;, score=0.764 total time= 4.7min\n",
      "[CV 1/3] END max_depth=250, max_features=log2, n_estimators=600;, score=0.766 total time= 7.0min\n",
      "[CV 2/3] END max_depth=250, max_features=log2, n_estimators=600;, score=0.765 total time= 7.0min\n",
      "[CV 3/3] END max_depth=250, max_features=log2, n_estimators=600;, score=0.766 total time= 7.0min\n",
      "[CV 1/3] END max_depth=250, max_features=log2, n_estimators=800;, score=0.766 total time= 9.3min\n",
      "[CV 2/3] END max_depth=250, max_features=log2, n_estimators=800;, score=0.766 total time= 9.3min\n",
      "[CV 3/3] END max_depth=250, max_features=log2, n_estimators=800;, score=0.766 total time= 9.3min\n"
     ]
    },
    {
     "data": {
      "text/html": [
       "<style>#sk-container-id-1 {color: black;background-color: white;}#sk-container-id-1 pre{padding: 0;}#sk-container-id-1 div.sk-toggleable {background-color: white;}#sk-container-id-1 label.sk-toggleable__label {cursor: pointer;display: block;width: 100%;margin-bottom: 0;padding: 0.3em;box-sizing: border-box;text-align: center;}#sk-container-id-1 label.sk-toggleable__label-arrow:before {content: \"▸\";float: left;margin-right: 0.25em;color: #696969;}#sk-container-id-1 label.sk-toggleable__label-arrow:hover:before {color: black;}#sk-container-id-1 div.sk-estimator:hover label.sk-toggleable__label-arrow:before {color: black;}#sk-container-id-1 div.sk-toggleable__content {max-height: 0;max-width: 0;overflow: hidden;text-align: left;background-color: #f0f8ff;}#sk-container-id-1 div.sk-toggleable__content pre {margin: 0.2em;color: black;border-radius: 0.25em;background-color: #f0f8ff;}#sk-container-id-1 input.sk-toggleable__control:checked~div.sk-toggleable__content {max-height: 200px;max-width: 100%;overflow: auto;}#sk-container-id-1 input.sk-toggleable__control:checked~label.sk-toggleable__label-arrow:before {content: \"▾\";}#sk-container-id-1 div.sk-estimator input.sk-toggleable__control:checked~label.sk-toggleable__label {background-color: #d4ebff;}#sk-container-id-1 div.sk-label input.sk-toggleable__control:checked~label.sk-toggleable__label {background-color: #d4ebff;}#sk-container-id-1 input.sk-hidden--visually {border: 0;clip: rect(1px 1px 1px 1px);clip: rect(1px, 1px, 1px, 1px);height: 1px;margin: -1px;overflow: hidden;padding: 0;position: absolute;width: 1px;}#sk-container-id-1 div.sk-estimator {font-family: monospace;background-color: #f0f8ff;border: 1px dotted black;border-radius: 0.25em;box-sizing: border-box;margin-bottom: 0.5em;}#sk-container-id-1 div.sk-estimator:hover {background-color: #d4ebff;}#sk-container-id-1 div.sk-parallel-item::after {content: \"\";width: 100%;border-bottom: 1px solid gray;flex-grow: 1;}#sk-container-id-1 div.sk-label:hover label.sk-toggleable__label {background-color: #d4ebff;}#sk-container-id-1 div.sk-serial::before {content: \"\";position: absolute;border-left: 1px solid gray;box-sizing: border-box;top: 0;bottom: 0;left: 50%;z-index: 0;}#sk-container-id-1 div.sk-serial {display: flex;flex-direction: column;align-items: center;background-color: white;padding-right: 0.2em;padding-left: 0.2em;position: relative;}#sk-container-id-1 div.sk-item {position: relative;z-index: 1;}#sk-container-id-1 div.sk-parallel {display: flex;align-items: stretch;justify-content: center;background-color: white;position: relative;}#sk-container-id-1 div.sk-item::before, #sk-container-id-1 div.sk-parallel-item::before {content: \"\";position: absolute;border-left: 1px solid gray;box-sizing: border-box;top: 0;bottom: 0;left: 50%;z-index: -1;}#sk-container-id-1 div.sk-parallel-item {display: flex;flex-direction: column;z-index: 1;position: relative;background-color: white;}#sk-container-id-1 div.sk-parallel-item:first-child::after {align-self: flex-end;width: 50%;}#sk-container-id-1 div.sk-parallel-item:last-child::after {align-self: flex-start;width: 50%;}#sk-container-id-1 div.sk-parallel-item:only-child::after {width: 0;}#sk-container-id-1 div.sk-dashed-wrapped {border: 1px dashed gray;margin: 0 0.4em 0.5em 0.4em;box-sizing: border-box;padding-bottom: 0.4em;background-color: white;}#sk-container-id-1 div.sk-label label {font-family: monospace;font-weight: bold;display: inline-block;line-height: 1.2em;}#sk-container-id-1 div.sk-label-container {text-align: center;}#sk-container-id-1 div.sk-container {/* jupyter's `normalize.less` sets `[hidden] { display: none; }` but bootstrap.min.css set `[hidden] { display: none !important; }` so we also need the `!important` here to be able to override the default hidden behavior on the sphinx rendered scikit-learn.org. See: https://github.com/scikit-learn/scikit-learn/issues/21755 */display: inline-block !important;position: relative;}#sk-container-id-1 div.sk-text-repr-fallback {display: none;}</style><div id=\"sk-container-id-1\" class=\"sk-top-container\"><div class=\"sk-text-repr-fallback\"><pre>GridSearchCV(cv=3, estimator=RandomForestClassifier(),\n",
       "             param_grid={&#x27;max_depth&#x27;: [50, 150, 250],\n",
       "                         &#x27;max_features&#x27;: [&#x27;sqrt&#x27;, &#x27;log2&#x27;],\n",
       "                         &#x27;n_estimators&#x27;: [400, 600, 800]},\n",
       "             verbose=4)</pre><b>In a Jupyter environment, please rerun this cell to show the HTML representation or trust the notebook. <br />On GitHub, the HTML representation is unable to render, please try loading this page with nbviewer.org.</b></div><div class=\"sk-container\" hidden><div class=\"sk-item sk-dashed-wrapped\"><div class=\"sk-label-container\"><div class=\"sk-label sk-toggleable\"><input class=\"sk-toggleable__control sk-hidden--visually\" id=\"sk-estimator-id-1\" type=\"checkbox\" ><label for=\"sk-estimator-id-1\" class=\"sk-toggleable__label sk-toggleable__label-arrow\">GridSearchCV</label><div class=\"sk-toggleable__content\"><pre>GridSearchCV(cv=3, estimator=RandomForestClassifier(),\n",
       "             param_grid={&#x27;max_depth&#x27;: [50, 150, 250],\n",
       "                         &#x27;max_features&#x27;: [&#x27;sqrt&#x27;, &#x27;log2&#x27;],\n",
       "                         &#x27;n_estimators&#x27;: [400, 600, 800]},\n",
       "             verbose=4)</pre></div></div></div><div class=\"sk-parallel\"><div class=\"sk-parallel-item\"><div class=\"sk-item\"><div class=\"sk-label-container\"><div class=\"sk-label sk-toggleable\"><input class=\"sk-toggleable__control sk-hidden--visually\" id=\"sk-estimator-id-2\" type=\"checkbox\" ><label for=\"sk-estimator-id-2\" class=\"sk-toggleable__label sk-toggleable__label-arrow\">estimator: RandomForestClassifier</label><div class=\"sk-toggleable__content\"><pre>RandomForestClassifier()</pre></div></div></div><div class=\"sk-serial\"><div class=\"sk-item\"><div class=\"sk-estimator sk-toggleable\"><input class=\"sk-toggleable__control sk-hidden--visually\" id=\"sk-estimator-id-3\" type=\"checkbox\" ><label for=\"sk-estimator-id-3\" class=\"sk-toggleable__label sk-toggleable__label-arrow\">RandomForestClassifier</label><div class=\"sk-toggleable__content\"><pre>RandomForestClassifier()</pre></div></div></div></div></div></div></div></div></div></div>"
      ],
      "text/plain": [
       "GridSearchCV(cv=3, estimator=RandomForestClassifier(),\n",
       "             param_grid={'max_depth': [50, 150, 250],\n",
       "                         'max_features': ['sqrt', 'log2'],\n",
       "                         'n_estimators': [400, 600, 800]},\n",
       "             verbose=4)"
      ]
     },
     "execution_count": 17,
     "metadata": {},
     "output_type": "execute_result"
    }
   ],
   "source": [
    "rfc=RandomForestClassifier()\n",
    "\n",
    "param_grid = { \n",
    "    'n_estimators': [400, 600, 800],\n",
    "    'max_features': ['sqrt', 'log2'],\n",
    "    'max_depth' : [50, 150, 250]\n",
    "}\n",
    "\n",
    "CV_rfc = GridSearchCV(estimator=rfc, param_grid=param_grid, cv=3, verbose=4)\n",
    "CV_rfc.fit(x_train, y_train)"
   ]
  },
  {
   "cell_type": "code",
   "execution_count": 18,
   "metadata": {},
   "outputs": [
    {
     "name": "stdout",
     "output_type": "stream",
     "text": [
      "RandomForestClassifier(max_depth=250, max_features='log2', n_estimators=800)\n",
      "0.77345\n"
     ]
    }
   ],
   "source": [
    "rfc = CV_rfc.best_estimator_\n",
    "print(rfc)\n",
    "rfc.fit(x_train, y_train)\n",
    "y_pred = rfc.predict(x_test)\n",
    "print(accuracy_score(y_test, y_pred))"
   ]
  },
  {
   "cell_type": "code",
   "execution_count": 4,
   "metadata": {},
   "outputs": [],
   "source": [
    "X_train, X_test, y_train, y_test = train_test_split(data, y, test_size=0.2)\n",
    "\n",
    "X_train_3d = np.reshape(X_train.values, (X_train.shape[0], X_train.shape[1], 1))\n",
    "X_test_3d = np.reshape(X_test.values, (X_test.shape[0], X_test.shape[1], 1))\n",
    "\n",
    "encoder = LabelEncoder()\n",
    "y_train_encoded = encoder.fit_transform(y_train)\n",
    "y_test_encoded = encoder.transform(y_test)\n",
    "y_train_full01 = to_categorical(y_train_encoded)\n",
    "y_test01 = to_categorical(y_test_encoded)"
   ]
  },
  {
   "cell_type": "code",
   "execution_count": 13,
   "metadata": {},
   "outputs": [
    {
     "name": "stdout",
     "output_type": "stream",
     "text": [
      "Epoch 1/30\n",
      "800/800 [==============================] - 64s 78ms/step - loss: 0.5039 - accuracy: 0.7510 - val_loss: 0.4779 - val_accuracy: 0.7645\n",
      "Epoch 2/30\n",
      "800/800 [==============================] - 63s 79ms/step - loss: 0.4049 - accuracy: 0.8135 - val_loss: 0.5043 - val_accuracy: 0.7667\n",
      "Epoch 3/30\n",
      "800/800 [==============================] - 62s 77ms/step - loss: 0.2309 - accuracy: 0.8988 - val_loss: 0.7082 - val_accuracy: 0.7566\n",
      "Epoch 4/30\n",
      "800/800 [==============================] - 63s 79ms/step - loss: 0.0860 - accuracy: 0.9642 - val_loss: 1.0965 - val_accuracy: 0.7531\n",
      "Epoch 5/30\n",
      "800/800 [==============================] - 66s 82ms/step - loss: 0.0422 - accuracy: 0.9818 - val_loss: 1.5389 - val_accuracy: 0.7497\n",
      "Epoch 6/30\n",
      "800/800 [==============================] - 66s 82ms/step - loss: 0.0327 - accuracy: 0.9854 - val_loss: 1.8707 - val_accuracy: 0.7440\n",
      "Epoch 7/30\n",
      "800/800 [==============================] - 65s 81ms/step - loss: 0.0308 - accuracy: 0.9864 - val_loss: 1.6496 - val_accuracy: 0.7502\n"
     ]
    }
   ],
   "source": [
    "network=Sequential()\n",
    "\n",
    "act='relu'\n",
    "# Input layer\n",
    "network.add(layers.Dense(1280,activation=act,input_shape=(5010,)))\n",
    "network.add(layers.Dense(640,activation=act))\n",
    "network.add(layers.Dense(320,activation=act))\n",
    "# Output layer\n",
    "network.add(layers.Dense(2,activation='softmax',))\n",
    "network.compile(optimizer=Adam(),loss='categorical_crossentropy',metrics=['accuracy'])\n",
    "\n",
    "#Adding an early stopping\n",
    "es = EarlyStopping(monitor='val_accuracy', \n",
    "                   mode='max', \n",
    "                   patience=5,\n",
    "                   restore_best_weights=True)\n",
    "\n",
    "history=network.fit(X_train, y_train_full01, epochs=30, batch_size=100, callbacks =[es], validation_data=(X_test, y_test01))"
   ]
  },
  {
   "cell_type": "code",
   "execution_count": 5,
   "metadata": {},
   "outputs": [
    {
     "name": "stdout",
     "output_type": "stream",
     "text": [
      "Model: \"sequential\"\n",
      "_________________________________________________________________\n",
      " Layer (type)                Output Shape              Param #   \n",
      "=================================================================\n",
      " lstm (LSTM)                 (None, 5010, 16)          1152      \n",
      "                                                                 \n",
      " spatial_dropout1d (SpatialD  (None, 5010, 16)         0         \n",
      " ropout1D)                                                       \n",
      "                                                                 \n",
      " lstm_1 (LSTM)               (None, 5010, 16)          2112      \n",
      "                                                                 \n",
      " lstm_2 (LSTM)               (None, 16)                2112      \n",
      "                                                                 \n",
      " dense (Dense)               (None, 2)                 34        \n",
      "                                                                 \n",
      "=================================================================\n",
      "Total params: 5,410\n",
      "Trainable params: 5,410\n",
      "Non-trainable params: 0\n",
      "_________________________________________________________________\n"
     ]
    }
   ],
   "source": [
    "model = Sequential()\n",
    "\n",
    "model.add(LSTM(16, input_shape=(5010, 1), activation='relu', dropout=0.1, recurrent_dropout=0.1, return_sequences=True))\n",
    "model.add(SpatialDropout1D(0.1))\n",
    "\n",
    "model.add(LSTM(16, activation='relu', dropout=0.1, recurrent_dropout=0.1, return_sequences=True))\n",
    "\n",
    "model.add(LSTM(16, activation='relu', dropout=0.1, recurrent_dropout=0.1))\n",
    "\n",
    "model.add(Dense(2, activation='softmax'))\n",
    "\n",
    "# Print model summary\n",
    "model.summary()"
   ]
  },
  {
   "cell_type": "code",
   "execution_count": null,
   "metadata": {
    "scrolled": false
   },
   "outputs": [
    {
     "name": "stdout",
     "output_type": "stream",
     "text": [
      "Epoch 1/10\n",
      " 1/80 [..............................] - ETA: 5:21:42 - loss: 0.6933 - accuracy: 0.4970"
     ]
    }
   ],
   "source": [
    "# Compile the model\n",
    "model.compile(optimizer=Adam(),\n",
    "              loss='categorical_crossentropy',\n",
    "              metrics=['accuracy'])\n",
    "\n",
    "# Define early stopping callback\n",
    "es = EarlyStopping(monitor='val_loss', mode='max', patience=3, restore_best_weights=True)\n",
    "\n",
    "# Train the model with reduced batch size\n",
    "model.fit(X_train_3d, y_train_full01, batch_size=1000, epochs=10, callbacks=[es], validation_data=(X_test_3d, y_test01))"
   ]
  }
 ],
 "metadata": {
  "kernelspec": {
   "display_name": "Python 3",
   "language": "python",
   "name": "python3"
  },
  "language_info": {
   "codemirror_mode": {
    "name": "ipython",
    "version": 3
   },
   "file_extension": ".py",
   "mimetype": "text/x-python",
   "name": "python",
   "nbconvert_exporter": "python",
   "pygments_lexer": "ipython3",
   "version": "3.8.5"
  }
 },
 "nbformat": 4,
 "nbformat_minor": 2
}
