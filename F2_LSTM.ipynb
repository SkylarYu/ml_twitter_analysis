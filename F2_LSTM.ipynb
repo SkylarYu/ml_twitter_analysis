{
 "cells": [
  {
   "cell_type": "code",
   "execution_count": 1,
   "metadata": {},
   "outputs": [],
   "source": [
    "import feature_engineering as fe\n",
    "import my_globals\n",
    "import numpy as np\n",
    "import pandas as pd\n",
    "import tensorflow.compat.v1 as tf\n",
    "import os\n",
    "tf.enable_eager_execution()\n",
    "tf.enable_v2_behavior()\n",
    "# tf.disable_eager_execution()\n",
    "\n",
    "from preprocessing import cleaning, preprocess_pipeline\n",
    "from utils import get_sub_dataset\n",
    "\n",
    "from gensim.models import Word2Vec\n",
    "\n",
    "from keras.preprocessing.text import Tokenizer\n",
    "from keras.utils import pad_sequences\n",
    "from keras.models import Sequential\n",
    "from keras.layers import Activation, Dense, Dropout, Embedding, Flatten, Conv1D, MaxPooling1D, LSTM\n",
    "from keras import utils\n",
    "from keras.callbacks import ReduceLROnPlateau, EarlyStopping\n",
    "from keras import backend as K\n",
    "\n",
    "from sklearn.model_selection import train_test_split\n",
    "from sklearn.preprocessing import LabelEncoder\n",
    "\n",
    "from tensorflow.keras import mixed_precision\n",
    "\n",
    "#### Disabling GPU ####\n",
    "os.environ[\"CUDA_VISIBLE_DEVICES\"] = \"-1\"\n",
    "####\n",
    "\n",
    "\n",
    "params = dict(\n",
    "    N = 100000,\n",
    "    random_seed = 0,\n",
    "    max_features = 5000,\n",
    "    sequence_length = 300,\n",
    "    batch_size = 64, \n",
    "    epochs = 20, \n",
    "    train = False\n",
    ")\n",
    "\n",
    "# policy = mixed_precision.Policy(\n",
    "#     'mixed_float16'\n",
    "# )\n",
    "# mixed_precision.set_global_policy(policy)\n",
    "\n",
    "\n",
    "\n",
    "num_threads = os.environ.get('OMP_NUM_THREADS')\n",
    "gpu_options = tf.GPUOptions(per_process_gpu_memory_fraction=0.1)\n",
    "\n",
    "if num_threads:\n",
    "    session = tf.Session(config=tf.ConfigProto(\n",
    "    gpu_options=gpu_options, intra_op_parallelism_threads=num_threads))\n",
    "else:\n",
    "    session = tf.Session(config=tf.ConfigProto(gpu_options=gpu_options))\n",
    "\n",
    "config = tf.ConfigProto(device_count = {'GPU': 0})\n",
    "config.gpu_options.allow_growth = True\n",
    "config.gpu_options.per_process_gpu_memory_fraction = 0.1\n",
    "session = tf.Session(config=config)\n",
    "K.set_session(session)\n"
   ]
  },
  {
   "cell_type": "code",
   "execution_count": 2,
   "metadata": {},
   "outputs": [
    {
     "name": "stderr",
     "output_type": "stream",
     "text": [
      "C:\\Users\\linru\\AppData\\Roaming\\Python\\Python39\\site-packages\\dateutil\\parser\\_parser.py:1213: UnknownTimezoneWarning: tzname PDT identified but not understood.  Pass `tzinfos` argument in order to correctly return a timezone-aware datetime.  In a future version, this will raise an exception.\n",
      "  warnings.warn(\"tzname {tzname} identified but not understood.  \"\n"
     ]
    }
   ],
   "source": [
    "data = get_sub_dataset(size = params[\"N\"], random_seed=params[\"random_seed\"])\n",
    "data = cleaning(data)\n",
    "data[\"processed_text\"] = data[\"text\"].apply(\n",
    "    lambda s:\n",
    "    preprocess_pipeline(\n",
    "        s,\n",
    "        pipeline=\"w2v\"\n",
    "    )\n",
    ")\n",
    "\n",
    "if params[\"train\"]:\n",
    "    feature_df, w2v_model = fe.word_embedding(\n",
    "        data,\n",
    "        vector_size=params[\"max_features\"],\n",
    "        w2v_epochs=30,\n",
    "        aggregate=\"l3\",\n",
    "        colname=\"processed_text\"\n",
    "    )\n",
    "else:\n",
    "    w2v_model = Word2Vec.load(\"../project_data/w2v_model.pickle\")"
   ]
  },
  {
   "cell_type": "code",
   "execution_count": 3,
   "metadata": {},
   "outputs": [],
   "source": [
    "# Split\n",
    "\n",
    "XX = data[[\"processed_text\"]]\n",
    "yy = data[[\"target\"]]\n",
    "\n",
    "df_X_train, df_X_test, df_y_train, df_y_test = train_test_split(\n",
    "    XX, yy, test_size=0.15, random_state = params[\"random_seed\"]\n",
    ")\n",
    "\n"
   ]
  },
  {
   "cell_type": "code",
   "execution_count": 4,
   "metadata": {},
   "outputs": [],
   "source": [
    "tokenizer = Tokenizer()\n",
    "tokenizer.fit_on_texts(df_X_train[\"processed_text\"])\n",
    "vocab_size = len(tokenizer.word_index) + 1\n",
    "\n",
    "X_train = pad_sequences(\n",
    "    tokenizer.texts_to_sequences(df_X_train[\"processed_text\"]), \n",
    "    maxlen=params[\"sequence_length\"]\n",
    ")\n",
    "X_test = pad_sequences(\n",
    "    tokenizer.texts_to_sequences(df_X_test[\"processed_text\"]), \n",
    "    maxlen=params[\"sequence_length\"]\n",
    ")\n",
    "\n",
    "encoder = LabelEncoder()\n",
    "encoder.fit(df_y_train[\"target\"].tolist())\n",
    "y_train = encoder.transform(df_y_train[\"target\"].tolist())\n",
    "y_test = encoder.transform(df_y_test[\"target\"].tolist())\n",
    "\n",
    "y_train = y_train.reshape(-1,1)\n",
    "y_test = y_test.reshape(-1,1)"
   ]
  },
  {
   "cell_type": "code",
   "execution_count": 5,
   "metadata": {},
   "outputs": [
    {
     "name": "stdout",
     "output_type": "stream",
     "text": [
      "(46715, 5000)\n"
     ]
    }
   ],
   "source": [
    "# Construct embedding layer\n",
    "\n",
    "embedding_matrix = np.zeros((vocab_size, params[\"max_features\"]))\n",
    "for word, i in tokenizer.word_index.items():\n",
    "  if word in w2v_model.wv:\n",
    "    embedding_matrix[i] = w2v_model.wv[word]\n",
    "print(embedding_matrix.shape)\n",
    "\n",
    "with tf.device('cpu:0'):\n",
    "  embedding_layer = Embedding(\n",
    "    vocab_size, \n",
    "    params[\"max_features\"],\n",
    "    weights=[embedding_matrix], \n",
    "    input_length=params[\"sequence_length\"], \n",
    "    trainable=False\n",
    "  )\n",
    "  embedding_layer.build(input_shape=params[\"sequence_length\"])"
   ]
  },
  {
   "cell_type": "code",
   "execution_count": 6,
   "metadata": {},
   "outputs": [
    {
     "name": "stdout",
     "output_type": "stream",
     "text": [
      "Model: \"sequential\"\n",
      "_________________________________________________________________\n",
      " Layer (type)                Output Shape              Param #   \n",
      "=================================================================\n",
      " embedding (Embedding)       (None, 300, 5000)         233575000 \n",
      "                                                                 \n",
      " dropout (Dropout)           (None, 300, 5000)         0         \n",
      "                                                                 \n",
      " lstm (LSTM)                 (None, 100)               2040400   \n",
      "                                                                 \n",
      " dense (Dense)               (None, 1)                 101       \n",
      "                                                                 \n",
      "=================================================================\n",
      "Total params: 235,615,501\n",
      "Trainable params: 2,040,501\n",
      "Non-trainable params: 233,575,000\n",
      "_________________________________________________________________\n"
     ]
    }
   ],
   "source": [
    "model = Sequential()\n",
    "model.add(embedding_layer)\n",
    "model.add(Dropout(0.5))\n",
    "model.add(LSTM(100, dropout=0.2, recurrent_dropout=0.2))\n",
    "model.add(Dense(1, activation='sigmoid'))\n",
    "\n",
    "model.summary()"
   ]
  },
  {
   "cell_type": "code",
   "execution_count": 9,
   "metadata": {},
   "outputs": [],
   "source": [
    "model.compile(loss='binary_crossentropy',\n",
    "              optimizer=\"adam\",\n",
    "              metrics=['accuracy'])\n",
    "\n",
    "callbacks = [\n",
    "    # ReduceLROnPlateau(monitor='val_loss', patience=5, cooldown=0),\n",
    "    EarlyStopping(monitor='val_accuracy', min_delta=1e-4, patience=5)\n",
    "]"
   ]
  },
  {
   "cell_type": "code",
   "execution_count": 10,
   "metadata": {},
   "outputs": [
    {
     "name": "stdout",
     "output_type": "stream",
     "text": [
      "Epoch 1/20\n",
      "1196/1196 [==============================] - 7456s 6s/step - loss: 0.4076 - accuracy: 0.8089 - val_loss: 0.4905 - val_accuracy: 0.7709\n",
      "Epoch 2/20\n",
      "1196/1196 [==============================] - 7491s 6s/step - loss: 0.3862 - accuracy: 0.8211 - val_loss: 0.5015 - val_accuracy: 0.7676\n",
      "Epoch 3/20\n",
      "1196/1196 [==============================] - 7421s 6s/step - loss: 0.3690 - accuracy: 0.8310 - val_loss: 0.5173 - val_accuracy: 0.7626\n",
      "Epoch 4/20\n",
      "1196/1196 [==============================] - 7636s 6s/step - loss: 0.3495 - accuracy: 0.8410 - val_loss: 0.5203 - val_accuracy: 0.7673\n",
      "Epoch 5/20\n",
      "1196/1196 [==============================] - 7798s 7s/step - loss: 0.3302 - accuracy: 0.8498 - val_loss: 0.5582 - val_accuracy: 0.7627\n",
      "Epoch 6/20\n",
      "1196/1196 [==============================] - 7127s 6s/step - loss: 0.3141 - accuracy: 0.8600 - val_loss: 0.5683 - val_accuracy: 0.7606\n"
     ]
    }
   ],
   "source": [
    "history = model.fit(X_train, y_train,\n",
    "                    batch_size=params[\"batch_size\"],\n",
    "                    epochs=params[\"epochs\"],\n",
    "                    validation_split=0.1,\n",
    "                    verbose=1,\n",
    "                    callbacks=callbacks)"
   ]
  },
  {
   "cell_type": "code",
   "execution_count": 11,
   "metadata": {},
   "outputs": [
    {
     "name": "stdout",
     "output_type": "stream",
     "text": [
      "469/469 [==============================] - 527s 1s/step\n"
     ]
    }
   ],
   "source": [
    "y_pred = model.predict(X_test)"
   ]
  },
  {
   "cell_type": "code",
   "execution_count": 12,
   "metadata": {},
   "outputs": [],
   "source": [
    "from sklearn.metrics import accuracy_score, confusion_matrix, classification_report\n",
    "import matplotlib.pyplot as plt\n",
    "import seaborn as sns\n",
    "\n",
    "def assess(y_true, y_pred):\n",
    "    print(\"confusion matrix:\")\n",
    "    conf_mat = confusion_matrix(y_true, y_pred)\n",
    "    print(conf_mat)\n",
    "    print()\n",
    "    print(\"accuracy_score:\")\n",
    "    print(accuracy_score(y_true, y_pred))\n",
    "    print()\n",
    "    print(\"classification report:\")\n",
    "    print(classification_report(y_true,y_pred))\n",
    "    print()\n",
    "    return conf_mat"
   ]
  },
  {
   "cell_type": "code",
   "execution_count": 18,
   "metadata": {},
   "outputs": [],
   "source": [
    "y_pred = (y_pred >= 0.5) * 1"
   ]
  },
  {
   "cell_type": "code",
   "execution_count": 19,
   "metadata": {},
   "outputs": [
    {
     "name": "stdout",
     "output_type": "stream",
     "text": [
      "Out of sample assessment:\n",
      "\n",
      "confusion matrix:\n",
      "[[5552 1935]\n",
      " [1723 5790]]\n",
      "\n",
      "accuracy_score:\n",
      "0.7561333333333333\n",
      "\n",
      "classification report:\n",
      "              precision    recall  f1-score   support\n",
      "\n",
      "           0       0.76      0.74      0.75      7487\n",
      "           1       0.75      0.77      0.76      7513\n",
      "\n",
      "    accuracy                           0.76     15000\n",
      "   macro avg       0.76      0.76      0.76     15000\n",
      "weighted avg       0.76      0.76      0.76     15000\n",
      "\n",
      "\n"
     ]
    },
    {
     "data": {
      "text/plain": [
       "<AxesSubplot: >"
      ]
     },
     "execution_count": 19,
     "metadata": {},
     "output_type": "execute_result"
    },
    {
     "data": {
      "image/png": "[encoded data removed]",
      "text/plain": [
       "<Figure size 504x504 with 2 Axes>"
      ]
     },
     "metadata": {
      "needs_background": "light"
     },
     "output_type": "display_data"
    }
   ],
   "source": [
    "print(\"Out of sample assessment:\")\n",
    "print()\n",
    "conf_mat = assess(y_test, y_pred)\n",
    "\n",
    "fig, ax = plt.subplots(1,1, figsize = [7,7])\n",
    "sns.heatmap(conf_mat, annot=True, ax = ax)"
   ]
  },
  {
   "cell_type": "code",
   "execution_count": null,
   "metadata": {},
   "outputs": [],
   "source": []
  }
 ],
 "metadata": {
  "kernelspec": {
   "display_name": "DL",
   "language": "python",
   "name": "python3"
  },
  "language_info": {
   "codemirror_mode": {
    "name": "ipython",
    "version": 3
   },
   "file_extension": ".py",
   "mimetype": "text/x-python",
   "name": "python",
   "nbconvert_exporter": "python",
   "pygments_lexer": "ipython3",
   "version": "3.9.13"
  },
  "orig_nbformat": 4
 },
 "nbformat": 4,
 "nbformat_minor": 2
}
